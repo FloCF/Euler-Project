{
 "cells": [
  {
   "cell_type": "markdown",
   "metadata": {},
   "source": [
    "# Problem 34\n",
    "\n",
    "$145$ is a curious number, as $1! + 4! + 5! = 1 + 24 + 120 = 145$.\n",
    "\n",
    "Find the sum of all numbers which are equal to the sum of the factorial of their digits.\n",
    "\n",
    "*Note:* as $1! = 1$ and $2! = 2$ are not sums they are not included.\n"
   ]
  },
  {
   "cell_type": "code",
   "execution_count": 13,
   "metadata": {
    "collapsed": false
   },
   "outputs": [
    {
     "name": "stdout",
     "output_type": "stream",
     "text": [
      "DigFac : 145, Sum: 145\n",
      "DigFac : 40585, Sum: 40730\n",
      "Solution: 40730\n"
     ]
    }
   ],
   "source": [
    "from math import factorial\n",
    "\n",
    "limit = 2000000\n",
    "dig_facts = []\n",
    "for i in range(10,limit):\n",
    "    test = sum([factorial(int(dig)) for dig in str(i)])\n",
    "    if test==i:\n",
    "        dig_facts +=[i]\n",
    "        print(\"DigFac : \" + str(dig_facts[-1]) + \", Sum: \" + str(sum(dig_facts)))\n",
    "\n",
    "print(\"Solution: \" + str(sum(dig_facts)))"
   ]
  }
 ],
 "metadata": {
  "anaconda-cloud": {},
  "kernelspec": {
   "display_name": "Python [default]",
   "language": "python",
   "name": "python3"
  },
  "language_info": {
   "codemirror_mode": {
    "name": "ipython",
    "version": 3
   },
   "file_extension": ".py",
   "mimetype": "text/x-python",
   "name": "python",
   "nbconvert_exporter": "python",
   "pygments_lexer": "ipython3",
   "version": "3.5.2"
  }
 },
 "nbformat": 4,
 "nbformat_minor": 1
}
