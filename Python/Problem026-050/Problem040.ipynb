{
 "cells": [
  {
   "cell_type": "markdown",
   "metadata": {},
   "source": [
    "# Problem 40\n",
    "\n",
    "An irrational decimal fraction is created by concatenating the positive integers:\n",
    "\n",
    "$$\n",
    "0.12345678910\\color{red}{1}112131415161718192021...\n",
    "$$\n",
    "\n",
    "It can be seen that the $12^{th}$ digit of the fractional part is $1$.\n",
    "\n",
    "If $d_n$ represents the $n^{th}$ digit of the fractional part, find the value of the following expression.\n",
    "\n",
    "$$\n",
    "d_1 × d_{10} × d_{100} × d_{1000} × d_{10000} × d_{100000} × d_{1000000}\n",
    "$$\n"
   ]
  },
  {
   "cell_type": "code",
   "execution_count": 29,
   "metadata": {
    "collapsed": false
   },
   "outputs": [
    {
     "name": "stdout",
     "output_type": "stream",
     "text": [
      "Solution: 210\n"
     ]
    }
   ],
   "source": [
    "champernowne = \".\"\n",
    "i = 1\n",
    "while len(champernowne)<=1000000:\n",
    "    champernowne += str(i)\n",
    "    i += 1\n",
    "\n",
    "solution = 1\n",
    "for dec in range(7):\n",
    "    solution *= int(champernowne[int(\"1\"+dec*\"0\")])\n",
    "    \n",
    "print(\"Solution: \" + str(solution))"
   ]
  }
 ],
 "metadata": {
  "anaconda-cloud": {},
  "kernelspec": {
   "display_name": "Python [default]",
   "language": "python",
   "name": "python3"
  },
  "language_info": {
   "codemirror_mode": {
    "name": "ipython",
    "version": 3
   },
   "file_extension": ".py",
   "mimetype": "text/x-python",
   "name": "python",
   "nbconvert_exporter": "python",
   "pygments_lexer": "ipython3",
   "version": "3.5.2"
  }
 },
 "nbformat": 4,
 "nbformat_minor": 1
}
