{
 "cells": [
  {
   "cell_type": "markdown",
   "metadata": {},
   "source": [
    "# Problem 42\n",
    "\n",
    "The $n^{th}$ term of the sequence of triangle numbers is given by, $t_n = ½n(n+1)$; so the first ten triangle numbers are:\n",
    "\n",
    "$$\n",
    "1, 3, 6, 10, 15, 21, 28, 36, 45, 55, ...\n",
    "$$\n",
    "\n",
    "By converting each letter in a word to a number corresponding to its alphabetical position and adding these values we form a word value. For example, the word value for SKY is $19 + 11 + 25 = 55 = t^{10}$. If the word value is a triangle number then we shall call the word a triangle word.\n",
    "\n",
    "Using *words.txt* (right click and 'Save Link/Target As...'), a 16K text file containing nearly two-thousand common English words, how many are triangle words?\n"
   ]
  },
  {
   "cell_type": "code",
   "execution_count": 43,
   "metadata": {
    "collapsed": false
   },
   "outputs": [
    {
     "name": "stdout",
     "output_type": "stream",
     "text": [
      "Solution: 162\n"
     ]
    }
   ],
   "source": [
    "from numpy import array\n",
    "\n",
    "f =open(\"Problem042_data.txt\",\"r\")\n",
    "data_raw = []\n",
    "for line in f:\n",
    "    data_raw = line.split(\",\")\n",
    "\n",
    "data_number = [sum([ord(letter)-64 for letter in list(word[1:-1])]) for word in data_raw]\n",
    "triangular = array([int(0.5*n*(n+1)) for n in range(1,25)])\n",
    "\n",
    "solution = 0\n",
    "for test in data_number:\n",
    "    if any(test==triangular):\n",
    "        solution += 1\n",
    "\n",
    "print(\"Solution: \" + str(solution))"
   ]
  }
 ],
 "metadata": {
  "anaconda-cloud": {},
  "kernelspec": {
   "display_name": "Python [default]",
   "language": "python",
   "name": "python3"
  },
  "language_info": {
   "codemirror_mode": {
    "name": "ipython",
    "version": 3
   },
   "file_extension": ".py",
   "mimetype": "text/x-python",
   "name": "python",
   "nbconvert_exporter": "python",
   "pygments_lexer": "ipython3",
   "version": "3.5.2"
  }
 },
 "nbformat": 4,
 "nbformat_minor": 1
}
