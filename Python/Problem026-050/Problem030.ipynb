{
 "cells": [
  {
   "cell_type": "markdown",
   "metadata": {},
   "source": [
    "# Problem 30\n",
    "\n",
    "Surprisingly there are only three numbers that can be written as the sum of fourth powers of their digits:\n",
    "\n",
    "$$\n",
    "1634 = 1^4 + 6^4 + 3^4 + 4^4\\\\\n",
    "8208 = 8^4 + 2^4 + 0^4 + 8^4\\\\\n",
    "9474 = 9^4 + 4^4 + 7^4 + 4^4\n",
    "$$\n",
    "\n",
    "As $1 = 1^4$ is not a sum it is not included.\n",
    "\n",
    "The sum of these numbers is $1634 + 8208 + 9474 = 19316$.\n",
    "\n",
    "Find the sum of all the numbers that can be written as the sum of fifth powers of their digits."
   ]
  },
  {
   "cell_type": "code",
   "execution_count": 14,
   "metadata": {
    "collapsed": false
   },
   "outputs": [
    {
     "name": "stdout",
     "output_type": "stream",
     "text": [
      "Solution: 443839\n"
     ]
    }
   ],
   "source": [
    "power = 5\n",
    "limit = 1000000\n",
    "numbers = []\n",
    "for i in range(10,limit+1):\n",
    "    if sum([int(x)**5 for x in str(i)])==i:\n",
    "        numbers += [i]\n",
    "print(\"Solution: \" + str(sum(numbers)))"
   ]
  }
 ],
 "metadata": {
  "anaconda-cloud": {},
  "kernelspec": {
   "display_name": "Python [default]",
   "language": "python",
   "name": "python3"
  },
  "language_info": {
   "codemirror_mode": {
    "name": "ipython",
    "version": 3
   },
   "file_extension": ".py",
   "mimetype": "text/x-python",
   "name": "python",
   "nbconvert_exporter": "python",
   "pygments_lexer": "ipython3",
   "version": "3.5.2"
  }
 },
 "nbformat": 4,
 "nbformat_minor": 1
}
