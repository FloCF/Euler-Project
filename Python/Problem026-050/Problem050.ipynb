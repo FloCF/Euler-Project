{
 "cells": [
  {
   "cell_type": "markdown",
   "metadata": {},
   "source": [
    "# Problem 50\n",
    "\n",
    "\n",
    "\n",
    "The prime 41, can be written as the sum of six consecutive primes:\n",
    "\n",
    "$$\n",
    "41 = 2 + 3 + 5 + 7 + 11 + 13\n",
    "$$\n",
    "\n",
    "This is the longest sum of consecutive primes that adds to a prime below one-hundred.\n",
    "\n",
    "The longest sum of consecutive primes below one-thousand that adds to a prime, contains $21$ terms, and is equal to $953$.\n",
    "\n",
    "Which prime, below one-million, can be written as the sum of the most consecutive primes?\n"
   ]
  },
  {
   "cell_type": "code",
   "execution_count": 46,
   "metadata": {
    "collapsed": false
   },
   "outputs": [
    {
     "name": "stdout",
     "output_type": "stream",
     "text": [
      "Solution: 997651\n"
     ]
    }
   ],
   "source": [
    "import numpy as np\n",
    "\n",
    "def primesfrom2to(n):\n",
    "    \"\"\" Input n>=6, Returns a array of primes, 2 <= p < n \"\"\"\n",
    "    sieve = np.ones(int(n/3 + (n%6==2)), dtype=np.bool)\n",
    "    sieve[0] = False\n",
    "    for i in range(int(int(n**0.5)/3+1)):\n",
    "        if sieve[i]:\n",
    "            k=3*i+1|1\n",
    "            sieve[      int(((k*k)/3))      ::2*k] = False\n",
    "            sieve[int((k*k+4*k-2*k*(i&1))/3)::2*k] = False\n",
    "    return np.r_[2,3,((3*np.nonzero(sieve)[0]+1)|1)]\n",
    "\n",
    "primes = primesfrom2to(1000000)\n",
    "\n",
    "max_cons = 0\n",
    "solution = []\n",
    "found = False\n",
    "for index,prime in enumerate(primes[::-1]):\n",
    "    m = 0\n",
    "    while m<len(primes)-1:\n",
    "        sum_prime = 0\n",
    "        i = m\n",
    "        while sum_prime<prime:\n",
    "            sum_prime += primes[i]\n",
    "            if sum_prime==prime and i-m+1>max_cons:\n",
    "                solution = prime\n",
    "                max_cons = i-m+1\n",
    "                break\n",
    "            i += 1\n",
    "        m += 1\n",
    "    if index>10000:\n",
    "        break\n",
    "print(\"Solution: \" + str(solution))"
   ]
  }
 ],
 "metadata": {
  "anaconda-cloud": {},
  "kernelspec": {
   "display_name": "Python [default]",
   "language": "python",
   "name": "python3"
  },
  "language_info": {
   "codemirror_mode": {
    "name": "ipython",
    "version": 3
   },
   "file_extension": ".py",
   "mimetype": "text/x-python",
   "name": "python",
   "nbconvert_exporter": "python",
   "pygments_lexer": "ipython3",
   "version": "3.5.2"
  }
 },
 "nbformat": 4,
 "nbformat_minor": 1
}
