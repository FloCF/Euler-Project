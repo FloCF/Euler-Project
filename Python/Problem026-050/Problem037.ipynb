{
 "cells": [
  {
   "cell_type": "markdown",
   "metadata": {},
   "source": [
    "# Problem 37\n",
    "\n",
    "The number $3797$ has an interesting property. Being prime itself, it is possible to continuously remove digits from left to right, and remain prime at each stage: $3797, 797, 97$, and $7$. Similarly we can work from right to left: $3797, 379, 37$, and $3$.\n",
    "\n",
    "Find the sum of the only eleven primes that are both truncatable from left to right and right to left.\n",
    "\n",
    "NOTE: $2, 3, 5,$ and $7$ are not considered to be truncatable primes.\n"
   ]
  },
  {
   "cell_type": "code",
   "execution_count": 5,
   "metadata": {
    "collapsed": false
   },
   "outputs": [
    {
     "name": "stdout",
     "output_type": "stream",
     "text": [
      "Solution: 748317\n"
     ]
    }
   ],
   "source": [
    "import numpy as np\n",
    "\n",
    "primes = np.array([2])\n",
    "trunc = []\n",
    "i = 3\n",
    "while len(trunc)<11:       \n",
    "    if all(i%primes!=0):\n",
    "        primes = np.append(primes,[i])\n",
    "        if len(str(i))>1:\n",
    "            test = []\n",
    "            for dig in range(1,len(str(i))):\n",
    "                if any(int(str(i)[dig:])==primes) and any(int(str(i)[:-dig])==primes):\n",
    "                    test += [True]\n",
    "                else:\n",
    "                    test += [False]\n",
    "                    break\n",
    "            if all(test):\n",
    "                trunc += [i]\n",
    "    i += 2\n",
    "print(\"Solution: \" + str(sum(trunc)))"
   ]
  }
 ],
 "metadata": {
  "anaconda-cloud": {},
  "kernelspec": {
   "display_name": "Python [default]",
   "language": "python",
   "name": "python3"
  },
  "language_info": {
   "codemirror_mode": {
    "name": "ipython",
    "version": 3
   },
   "file_extension": ".py",
   "mimetype": "text/x-python",
   "name": "python",
   "nbconvert_exporter": "python",
   "pygments_lexer": "ipython3",
   "version": "3.5.2"
  }
 },
 "nbformat": 4,
 "nbformat_minor": 1
}
