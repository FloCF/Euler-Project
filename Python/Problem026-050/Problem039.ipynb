{
 "cells": [
  {
   "cell_type": "markdown",
   "metadata": {},
   "source": [
    "# Problem 39\n",
    "\n",
    "If $p$ is the perimeter of a right angle triangle with integral length sides, $\\{a,b,c\\}$, there are exactly three solutions for $p = 120$.\n",
    "\n",
    "$$\n",
    "\\{20,48,52\\}, \\{24,45,51\\}, \\{30,40,50\\}\n",
    "$$\n",
    "\n",
    "For which value of $p ≤ 1000$, is the number of solutions maximised?\n"
   ]
  },
  {
   "cell_type": "code",
   "execution_count": 29,
   "metadata": {
    "collapsed": false
   },
   "outputs": [
    {
     "name": "stdout",
     "output_type": "stream",
     "text": [
      "Solution: 840\n"
     ]
    }
   ],
   "source": [
    "from math import sqrt\n",
    "\n",
    "def pythacheck(a,b):\n",
    "    if sqrt(a**2+b**2)==int(sqrt(a**2+b**2)):\n",
    "        return True\n",
    "    else:\n",
    "        return False\n",
    "\n",
    "p_max = 1000\n",
    "pytha_numbers = []\n",
    "for a in range(1,int(p_max/2)+1):\n",
    "    for b in range(a,int(p_max/2)+1):\n",
    "        pytha_num = (a,b,int(sqrt(a**2+b**2)))\n",
    "        if pythacheck(a,b) and sum(pytha_num)<p_max:\n",
    "            pytha_numbers += [[pytha_num,sum(pytha_num)]]\n",
    "\n",
    "solution = 0\n",
    "max_pythas = 0\n",
    "for i in range(p_max):\n",
    "    if sum([x[1]==i+1 for x in pytha_numbers])>max_pythas:\n",
    "        solution = i+1\n",
    "        max_pythas = sum([x[1]==i+1 for x in pytha_numbers])\n",
    "print(\"Solution: \" + str(solution))"
   ]
  }
 ],
 "metadata": {
  "anaconda-cloud": {},
  "kernelspec": {
   "display_name": "Python [default]",
   "language": "python",
   "name": "python3"
  },
  "language_info": {
   "codemirror_mode": {
    "name": "ipython",
    "version": 3
   },
   "file_extension": ".py",
   "mimetype": "text/x-python",
   "name": "python",
   "nbconvert_exporter": "python",
   "pygments_lexer": "ipython3",
   "version": "3.5.2"
  }
 },
 "nbformat": 4,
 "nbformat_minor": 1
}
