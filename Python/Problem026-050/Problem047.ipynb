{
 "cells": [
  {
   "cell_type": "markdown",
   "metadata": {},
   "source": [
    "# Problem 47\n",
    "\n",
    "The first two consecutive numbers to have two distinct prime factors are:\n",
    "\n",
    "$$\n",
    "14 = 2 × 7\\\\\n",
    "15 = 3 × 5\n",
    "$$\n",
    "\n",
    "The first three consecutive numbers to have three distinct prime factors are:\n",
    "\n",
    "$$\n",
    "644 = 2^2 × 7 × 23\\\\\n",
    "645 = 3 × 5 × 43\\\\\n",
    "646 = 2 × 17 × 19.\n",
    "$$\n",
    "\n",
    "Find the first four consecutive integers to have four distinct prime factors each. What is the first of these numbers?\n"
   ]
  },
  {
   "cell_type": "code",
   "execution_count": 50,
   "metadata": {
    "collapsed": false
   },
   "outputs": [
    {
     "name": "stdout",
     "output_type": "stream",
     "text": [
      "Solution: 134043\n"
     ]
    }
   ],
   "source": [
    "import numpy as np\n",
    "\n",
    "def prime_facts(n):\n",
    "    rest = n\n",
    "    facts = []\n",
    "    while rest!=1:\n",
    "        i = 2\n",
    "        while i<=rest:\n",
    "            if rest%i==0:\n",
    "                rest = rest/i\n",
    "                facts += [i]\n",
    "                break\n",
    "            i += 1\n",
    "    \n",
    "    facts_comp = []\n",
    "    i = 0\n",
    "    while i < len(facts):\n",
    "        facts_comp += [facts[i]**sum(facts[i]==np.array(facts))]\n",
    "        i += sum(facts[i]==np.array(facts))\n",
    "    \n",
    "    return facts_comp\n",
    "\n",
    "\n",
    "destinct = 4\n",
    "solution = 0\n",
    "n = 1\n",
    "while solution==0:\n",
    "    if len(prime_facts(n))==len(prime_facts(n+1))==len(prime_facts(n+2))==len(prime_facts(n+3))==destinct and len(set(prime_facts(n)).intersection(set(prime_facts(n+1))).intersection(set(prime_facts(n+2))).intersection(set(prime_facts(n+3))))==0:\n",
    "        solution = n\n",
    "    n += 1\n",
    "print(\"Solution: \" + str(solution))"
   ]
  }
 ],
 "metadata": {
  "anaconda-cloud": {},
  "kernelspec": {
   "display_name": "Python [default]",
   "language": "python",
   "name": "python3"
  },
  "language_info": {
   "codemirror_mode": {
    "name": "ipython",
    "version": 3
   },
   "file_extension": ".py",
   "mimetype": "text/x-python",
   "name": "python",
   "nbconvert_exporter": "python",
   "pygments_lexer": "ipython3",
   "version": "3.5.2"
  }
 },
 "nbformat": 4,
 "nbformat_minor": 1
}
