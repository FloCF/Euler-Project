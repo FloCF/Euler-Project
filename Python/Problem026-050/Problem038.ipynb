{
 "cells": [
  {
   "cell_type": "markdown",
   "metadata": {},
   "source": [
    "# Problem 38\n",
    "\n",
    "\n",
    "Take the number $192$ and multiply it by each of $1, 2$, and $3$:\n",
    "\n",
    "$$\n",
    "192 × 1 = 192\\\\\n",
    "192 × 2 = 384\\\\\n",
    "192 × 3 = 576\\\\\n",
    "$$\n",
    "\n",
    "By concatenating each product we get the $1$ to $9$ pandigital, $192384576$. We will call $192384576$ the concatenated product of $192$ and $(1,2,3)$\n",
    "\n",
    "The same can be achieved by starting with $9$ and multiplying by $1, 2, 3, 4$, and $5$, giving the pandigital, $918273645$, which is the concatenated product of $9$ and $(1,2,3,4,5)$.\n",
    "\n",
    "What is the largest $1$ to $9$ pandigital $9$-digit number that can be formed as the concatenated product of an integer with $(1,2, ... , n)$ where $n > 1$?\n"
   ]
  },
  {
   "cell_type": "code",
   "execution_count": 35,
   "metadata": {
    "collapsed": false
   },
   "outputs": [
    {
     "name": "stdout",
     "output_type": "stream",
     "text": [
      "Solution: 932718654\n"
     ]
    }
   ],
   "source": [
    "from itertools import permutations\n",
    "import numpy as np\n",
    "\n",
    "raw = permutations([1, 2, 3, 4, 5, 6, 7, 8, 9])\n",
    "\n",
    "permuts = np.array([int(\"\".join([str(i) for i in per])) for per in raw])\n",
    "\n",
    "pandig = []\n",
    "for i in range(1,9999):\n",
    "    test = \"\"\n",
    "    j = 1\n",
    "    while len(test)<9:\n",
    "        test += str(i*j)\n",
    "        j += 1\n",
    "    if any(int(test)==permuts):\n",
    "        pandig += [int(test)]\n",
    "\n",
    "print(\"Solution: \" + str(sorted(pandig)[-1]))"
   ]
  }
 ],
 "metadata": {
  "anaconda-cloud": {},
  "kernelspec": {
   "display_name": "Python [default]",
   "language": "python",
   "name": "python3"
  },
  "language_info": {
   "codemirror_mode": {
    "name": "ipython",
    "version": 3
   },
   "file_extension": ".py",
   "mimetype": "text/x-python",
   "name": "python",
   "nbconvert_exporter": "python",
   "pygments_lexer": "ipython3",
   "version": "3.5.2"
  }
 },
 "nbformat": 4,
 "nbformat_minor": 1
}
