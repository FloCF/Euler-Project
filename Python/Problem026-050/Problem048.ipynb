{
 "cells": [
  {
   "cell_type": "markdown",
   "metadata": {},
   "source": [
    "# Problem 48\n",
    "\n",
    "The series, $1^1 + 2^2 + 3^3 + ... + 10^{10} = 10405071317$.\n",
    "\n",
    "Find the last ten digits of the series, $1^1 + 2^2 + 3^3 + ... + 1000^{1000}$.\n"
   ]
  },
  {
   "cell_type": "code",
   "execution_count": 5,
   "metadata": {
    "collapsed": false
   },
   "outputs": [
    {
     "name": "stdout",
     "output_type": "stream",
     "text": [
      "Solution: 9110846700\n"
     ]
    }
   ],
   "source": [
    "n_max=1000\n",
    "\n",
    "number = 0\n",
    "for i in range(1,n_max+1):\n",
    "    number += i**i\n",
    "print(\"Solution: \" + str(number)[-10:])"
   ]
  }
 ],
 "metadata": {
  "anaconda-cloud": {},
  "kernelspec": {
   "display_name": "Python [default]",
   "language": "python",
   "name": "python3"
  },
  "language_info": {
   "codemirror_mode": {
    "name": "ipython",
    "version": 3
   },
   "file_extension": ".py",
   "mimetype": "text/x-python",
   "name": "python",
   "nbconvert_exporter": "python",
   "pygments_lexer": "ipython3",
   "version": "3.5.2"
  }
 },
 "nbformat": 4,
 "nbformat_minor": 1
}
