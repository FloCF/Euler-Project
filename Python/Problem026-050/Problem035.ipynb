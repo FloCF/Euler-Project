{
 "cells": [
  {
   "cell_type": "markdown",
   "metadata": {},
   "source": [
    "# Problem 35\n",
    "\n",
    "The number, $197$, is called a circular prime because all rotations of the digits: $197, 971,$ and $719,$ are themselves prime.\n",
    "\n",
    "There are thirteen such primes below $100$: $2, 3, 5, 7, 11, 13, 17, 31, 37, 71, 73, 79,$ and $97$.\n",
    "\n",
    "How many circular primes are there below one million?"
   ]
  },
  {
   "cell_type": "code",
   "execution_count": 1,
   "metadata": {
    "collapsed": false
   },
   "outputs": [
    {
     "ename": "IndentationError",
     "evalue": "unexpected indent (<ipython-input-1-073513946410>, line 7)",
     "output_type": "error",
     "traceback": [
      "\u001b[0;36m  File \u001b[0;32m\"<ipython-input-1-073513946410>\"\u001b[0;36m, line \u001b[0;32m7\u001b[0m\n\u001b[0;31m    primes = np.array([])\u001b[0m\n\u001b[0m    ^\u001b[0m\n\u001b[0;31mIndentationError\u001b[0m\u001b[0;31m:\u001b[0m unexpected indent\n"
     ]
    }
   ],
   "source": [
    "import numpy as np\n",
    "from itertools import permutations\n",
    "import time\n",
    "\n",
    "def prime_gen(lim):\n",
    "    \n",
    "    primes = np.array([])\n",
    "    if all(2%primes!=0):\n",
    "        primes = np.append(primes,[2])\n",
    "        \n",
    "    for i in range(3,lim,2):\n",
    "        if all(i%primes!=0):\n",
    "            primes = np.append(primes,[i])\n",
    "        \n",
    "    return [int(x) for x in primes]\n",
    "\n",
    "lim = 1000000\n",
    "start = time.clock()\n",
    "primes = prime_gen(lim)\n",
    "end = time.clock()\n",
    "print(\"Runtime: \" + str(end-start))\n",
    "\n",
    "circulas = []\n",
    "for prime in primes:\n",
    "    rotations = [int(str(prime)[i:]+str(prime)[:i]) for i in range(len(str(prime)))]\n",
    "    testing = [any(test==np.array(primes)) for test in rotations]\n",
    "    if all(testing):\n",
    "        circulas += [prime]\n",
    "print(\"Solution: \" + str(len(circulas)))"
   ]
  }
 ],
 "metadata": {
  "anaconda-cloud": {},
  "kernelspec": {
   "display_name": "Python [default]",
   "language": "python",
   "name": "python3"
  },
  "language_info": {
   "codemirror_mode": {
    "name": "ipython",
    "version": 3
   },
   "file_extension": ".py",
   "mimetype": "text/x-python",
   "name": "python",
   "nbconvert_exporter": "python",
   "pygments_lexer": "ipython3",
   "version": "3.5.2"
  }
 },
 "nbformat": 4,
 "nbformat_minor": 1
}
