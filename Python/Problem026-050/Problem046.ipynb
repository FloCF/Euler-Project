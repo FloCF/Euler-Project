{
 "cells": [
  {
   "cell_type": "markdown",
   "metadata": {},
   "source": [
    "# Problem 46\n",
    "\n",
    "It was proposed by Christian Goldbach that every odd composite number can be written as the sum of a prime and twice a square.\n",
    "\n",
    "$$\n",
    "9 = 7 + 2×1^2\\\\\n",
    "15 = 7 + 2×2^2\\\\\n",
    "21 = 3 + 2×3^2\\\\\n",
    "25 = 7 + 2×3^2\\\\\n",
    "27 = 19 + 2×2^2\\\\\n",
    "33 = 31 + 2×1^2\n",
    "$$\n",
    "\n",
    "It turns out that the conjecture was false.\n",
    "\n",
    "What is the smallest odd composite that cannot be written as the sum of a prime and twice a square?"
   ]
  },
  {
   "cell_type": "code",
   "execution_count": 33,
   "metadata": {
    "collapsed": false
   },
   "outputs": [
    {
     "name": "stdout",
     "output_type": "stream",
     "text": [
      "Solution: 5777\n"
     ]
    }
   ],
   "source": [
    "import numpy as np\n",
    "from math import ceil\n",
    "\n",
    "def primesfrom2to(n):\n",
    "    \"\"\" Input n>=6, Returns a array of primes, 2 <= p < n \"\"\"\n",
    "    sieve = np.ones(int(n/3 + (n%6==2)), dtype=np.bool)\n",
    "    sieve[0] = False\n",
    "    for i in range(int(int(n**0.5)/3+1)):\n",
    "        if sieve[i]:\n",
    "            k=3*i+1|1\n",
    "            sieve[      int(((k*k)/3))      ::2*k] = False\n",
    "            sieve[int((k*k+4*k-2*k*(i&1))/3)::2*k] = False\n",
    "    return np.r_[2,3,((3*np.nonzero(sieve)[0]+1)|1)]\n",
    "\n",
    "def is_composite(n):\n",
    "    primes = primesfrom2to(n)\n",
    "    for i in range(1,ceil(np.sqrt(n/2-1))):\n",
    "        if any((n-2*i**2)==primes):\n",
    "            return True\n",
    "    return False\n",
    "\n",
    "n = 1000\n",
    "array = np.array([2*n+1 for n in range(1,n+1)]).reshape(len(range(1,n+1)),1)\n",
    "data = sorted(list(set(np.dot(array,array.T).reshape(len(array)*len(array),))))\n",
    "\n",
    "solution = 0\n",
    "i = 0\n",
    "while solution==0:\n",
    "    if is_composite(data[i])==False:\n",
    "        solution = data[i]\n",
    "    i +=1\n",
    "    if i==len(data):\n",
    "        print(\"n to small!\")\n",
    "\n",
    "print(\"Solution: \" + str(solution))"
   ]
  }
 ],
 "metadata": {
  "anaconda-cloud": {},
  "kernelspec": {
   "display_name": "Python [default]",
   "language": "python",
   "name": "python3"
  },
  "language_info": {
   "codemirror_mode": {
    "name": "ipython",
    "version": 3
   },
   "file_extension": ".py",
   "mimetype": "text/x-python",
   "name": "python",
   "nbconvert_exporter": "python",
   "pygments_lexer": "ipython3",
   "version": "3.5.2"
  }
 },
 "nbformat": 4,
 "nbformat_minor": 1
}
