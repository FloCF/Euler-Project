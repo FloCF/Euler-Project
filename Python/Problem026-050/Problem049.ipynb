{
 "cells": [
  {
   "cell_type": "markdown",
   "metadata": {},
   "source": [
    "# Problem 49\n",
    "\n",
    "The arithmetic sequence, $1487, 4817, 8147$, in which each of the terms increases by $3330$ is unusual in two ways: (i) each of the three terms are prime, and, (ii) each of the 4-digit numbers are permutations of one another.\n",
    "\n",
    "There are no arithmetic sequences made up of three 1-, 2-, or 3-digit primes, exhibiting this property, but there is one other 4-digit increasing sequence.\n",
    "\n",
    "What 12-digit number do you form by concatenating the three terms in this sequence?"
   ]
  },
  {
   "cell_type": "code",
   "execution_count": 31,
   "metadata": {
    "collapsed": false
   },
   "outputs": [
    {
     "name": "stdout",
     "output_type": "stream",
     "text": [
      "Solution: 296962999629\n"
     ]
    }
   ],
   "source": [
    "import numpy as np\n",
    "from itertools import permutations\n",
    "\n",
    "def primesfrom2to(n):\n",
    "    \"\"\" Input n>=6, Returns a array of primes, 2 <= p < n \"\"\"\n",
    "    sieve = np.ones(int(n/3 + (n%6==2)), dtype=np.bool)\n",
    "    sieve[0] = False\n",
    "    for i in range(int(int(n**0.5)/3+1)):\n",
    "        if sieve[i]:\n",
    "            k=3*i+1|1\n",
    "            sieve[      int(((k*k)/3))      ::2*k] = False\n",
    "            sieve[int((k*k+4*k-2*k*(i&1))/3)::2*k] = False\n",
    "    return np.r_[2,3,((3*np.nonzero(sieve)[0]+1)|1)]\n",
    "\n",
    "primes_all = primesfrom2to(9999)\n",
    "primes = primes_all[primes_all>1000]\n",
    "\n",
    "found = False\n",
    "for prime in primes:\n",
    "    if found:\n",
    "        break\n",
    "    for i in range(1,4500):\n",
    "        if any(prime+i==primes) and any(prime+2*i==primes):\n",
    "            permus_prime = np.array([int(\"\".join(per)) for per in permutations(list(str(prime)))])\n",
    "            if any(prime+i==permus_prime) and any(prime+2*i==permus_prime) and prime!=1487:\n",
    "                solution = [prime,prime+i,prime+2*i]\n",
    "                found = True\n",
    "                \n",
    "\n",
    "print(\"Solution: \" + \"\".join([str(num) for num in solution]))"
   ]
  }
 ],
 "metadata": {
  "anaconda-cloud": {},
  "kernelspec": {
   "display_name": "Python [default]",
   "language": "python",
   "name": "python3"
  },
  "language_info": {
   "codemirror_mode": {
    "name": "ipython",
    "version": 3
   },
   "file_extension": ".py",
   "mimetype": "text/x-python",
   "name": "python",
   "nbconvert_exporter": "python",
   "pygments_lexer": "ipython3",
   "version": "3.5.2"
  }
 },
 "nbformat": 4,
 "nbformat_minor": 1
}
