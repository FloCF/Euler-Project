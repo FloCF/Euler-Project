{
 "cells": [
  {
   "cell_type": "markdown",
   "metadata": {},
   "source": [
    "# Problem 28\n",
    "\n",
    "Starting with the number 1 and moving to the right in a clockwise direction a 5 by 5 spiral is formed as follows:\n",
    "$$\n",
    "\\color{red}{21} \\; 22 \\; 23 \\; 24 \\; \\color{red}{25}\\\\\n",
    "20 \\;\\; \\color{red}{7} \\;\\; 8 \\;\\; \\color{red}{9} \\; 10\\\\\n",
    "19 \\;\\; 6 \\;\\; \\color{red}{1} \\;\\; 2 \\; 11\\\\\n",
    "18 \\;\\; \\color{red}{5} \\;\\; 4 \\;\\; \\color{red}{3} \\; 12\\\\\n",
    "\\color{red}{17} \\; 16 \\; 15 \\; 14 \\; \\color{red}{13}\n",
    "$$\n",
    "It can be verified that the sum of the numbers on the diagonals is 101.\n",
    "\n",
    "What is the sum of the numbers on the diagonals in a 1001 by 1001 spiral formed in the same way?\n"
   ]
  },
  {
   "cell_type": "code",
   "execution_count": 116,
   "metadata": {
    "collapsed": false
   },
   "outputs": [
    {
     "name": "stdout",
     "output_type": "stream",
     "text": [
      "Solution: 669171001\n"
     ]
    }
   ],
   "source": [
    "n_rows = 1001\n",
    "numbers = list(range(1,n_rows**2+1))\n",
    "\n",
    "splits = [[1]]\n",
    "for i in range(int(n_rows/2)):\n",
    "    splits += [numbers[(2*i+1)**2:(2*i+3)**2]]\n",
    "\n",
    "diag = [1]\n",
    "for i,split in enumerate(splits):\n",
    "    if i!=0:\n",
    "        diag += split[2*i-1::2*i]\n",
    "\n",
    "print(\"Solution: \" + str(sum(diag)))"
   ]
  }
 ],
 "metadata": {
  "anaconda-cloud": {},
  "kernelspec": {
   "display_name": "Python [default]",
   "language": "python",
   "name": "python3"
  },
  "language_info": {
   "codemirror_mode": {
    "name": "ipython",
    "version": 3
   },
   "file_extension": ".py",
   "mimetype": "text/x-python",
   "name": "python",
   "nbconvert_exporter": "python",
   "pygments_lexer": "ipython3",
   "version": "3.5.2"
  }
 },
 "nbformat": 4,
 "nbformat_minor": 1
}
