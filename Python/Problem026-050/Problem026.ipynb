{
 "cells": [
  {
   "cell_type": "markdown",
   "metadata": {},
   "source": [
    "# Problem 26\n",
    "\n",
    "A unit fraction contains 1 in the numerator. The decimal representation of the unit fractions with denominators 2 to 10 are given:\n",
    "\n",
    "$$\n",
    "1/2\t= \t0.5\\\\\n",
    "1/3\t= \t0.(3)\\\\\n",
    "1/4\t= \t0.25\\\\\n",
    "1/5\t= \t0.2\\\\\n",
    "1/6\t= \t0.1(6)\\\\\n",
    "1/7\t= \t0.(142857)\\\\\n",
    "1/8\t= \t0.125\\\\\n",
    "1/9\t= \t0.(1)\\\\\n",
    "1/10 = \t0.1\\\\\n",
    "$$\n",
    "\n",
    "Where $0.1(6)$ means $0.166666...$, and has a 1-digit recurring cycle. It can be seen that $1/7$ has a 6-digit recurring cycle.\n",
    "\n",
    "Find the value of $d < 1000$ for which 1/d contains the longest recurring cycle in its decimal fraction part.\n"
   ]
  },
  {
   "cell_type": "code",
   "execution_count": 144,
   "metadata": {
    "collapsed": false
   },
   "outputs": [
    {
     "name": "stdout",
     "output_type": "stream",
     "text": [
      "Solution: 983\n"
     ]
    }
   ],
   "source": [
    "def frac_prec_str(n,precision):\n",
    "\n",
    "    value = str(int(1/n))+\".\"\n",
    "    i = 1\n",
    "    rest = 1%n\n",
    "    while i<precision+1:\n",
    "        value += str(int((rest%n*10)/n))\n",
    "        rest = (rest%n*10)%n\n",
    "        if rest==0:\n",
    "            break\n",
    "        i += 1\n",
    "    return(value)\n",
    "\n",
    "solution = 0\n",
    "recurr = 0\n",
    "for n in range(1,1001):\n",
    "    wert = frac_prec_str(n,10000)\n",
    "    test = []\n",
    "    for j in range(1,10000)[::-1]:\n",
    "        if wert[j:10000]==wert[j-(10000-j):j]:\n",
    "            test += [10000-j]\n",
    "    if test[0]>recurr:\n",
    "        solution = n\n",
    "        recurr = test[0]\n",
    "print(\"Solution: \" + str(solution))"
   ]
  }
 ],
 "metadata": {
  "anaconda-cloud": {},
  "kernelspec": {
   "display_name": "Python [default]",
   "language": "python",
   "name": "python3"
  },
  "language_info": {
   "codemirror_mode": {
    "name": "ipython",
    "version": 3
   },
   "file_extension": ".py",
   "mimetype": "text/x-python",
   "name": "python",
   "nbconvert_exporter": "python",
   "pygments_lexer": "ipython3",
   "version": "3.5.2"
  }
 },
 "nbformat": 4,
 "nbformat_minor": 1
}
