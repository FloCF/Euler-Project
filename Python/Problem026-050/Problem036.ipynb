{
 "cells": [
  {
   "cell_type": "markdown",
   "metadata": {},
   "source": [
    "# Problem 36\n",
    "\n",
    "The decimal number, $585 = 1001001001_2$ (binary), is palindromic in both bases.\n",
    "\n",
    "Find the sum of all numbers, less than one million, which are palindromic in base $10$ and base $2$.\n",
    "\n",
    "(Please note that the palindromic number, in either base, may not include leading zeros.)"
   ]
  },
  {
   "cell_type": "code",
   "execution_count": 18,
   "metadata": {
    "collapsed": false
   },
   "outputs": [
    {
     "name": "stdout",
     "output_type": "stream",
     "text": [
      "Solution: 872187\n"
     ]
    }
   ],
   "source": [
    "def palinbin(n):\n",
    "    if str(n)==str(n)[::-1] and bin(n)[2:]==bin(n)[2:][::-1]:\n",
    "        return True\n",
    "    else:\n",
    "        return False\n",
    "\n",
    "n = 1000000\n",
    "\n",
    "palin = []\n",
    "for i in range(1,n):\n",
    "    if palinbin(i):\n",
    "        palin += [i]\n",
    "\n",
    "print(\"Solution: \" + str(sum(palin)))\n"
   ]
  }
 ],
 "metadata": {
  "anaconda-cloud": {},
  "kernelspec": {
   "display_name": "Python [default]",
   "language": "python",
   "name": "python3"
  },
  "language_info": {
   "codemirror_mode": {
    "name": "ipython",
    "version": 3
   },
   "file_extension": ".py",
   "mimetype": "text/x-python",
   "name": "python",
   "nbconvert_exporter": "python",
   "pygments_lexer": "ipython3",
   "version": "3.5.2"
  }
 },
 "nbformat": 4,
 "nbformat_minor": 1
}
