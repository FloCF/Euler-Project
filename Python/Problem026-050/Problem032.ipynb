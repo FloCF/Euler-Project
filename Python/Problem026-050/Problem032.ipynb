{
 "cells": [
  {
   "cell_type": "markdown",
   "metadata": {},
   "source": [
    "# Problem 32\n",
    "\n",
    "We shall say that an $n$-digit number is pandigital if it makes use of all the digits $1$ to $n$ exactly once; for example, the $5$-digit number, $15234$, is $1$ through $5$ pandigital.\n",
    "\n",
    "The product $7254$ is unusual, as the identity, $39 × 186 = 7254$, containing multiplicand, multiplier, and product is $1$ through $9$ pandigital.\n",
    "\n",
    "Find the sum of all products whose multiplicand/multiplier/product identity can be written as a $1$ through $9$ pandigital.\n",
    "\n",
    "**HINT:** Some products can be obtained in more than one way so be sure to only include it once in your sum."
   ]
  },
  {
   "cell_type": "code",
   "execution_count": 1,
   "metadata": {
    "collapsed": false
   },
   "outputs": [
    {
     "name": "stdout",
     "output_type": "stream",
     "text": [
      "Solution: 45228\n"
     ]
    }
   ],
   "source": [
    "from itertools import permutations\n",
    "\n",
    "raw = permutations([1, 2, 3, 4, 5, 6, 7, 8, 9])\n",
    "\n",
    "pandig = []\n",
    "for i in raw:\n",
    "    test = [int(str(i[0])),int(str(i[1])+str(i[2])+str(i[3])+str(i[4])),int(str(i[5])+str(i[6])+str(i[7])+str(i[8]))]\n",
    "    if test[0]*test[1]==test[2]:\n",
    "        pandig += [test]\n",
    "    test2 = [int(str(i[0])+str(i[1])),int(str(i[2])+str(i[3])+str(i[4])),int(str(i[5])+str(i[6])+str(i[7])+str(i[8]))]\n",
    "    if test2[0]*test2[1]==test2[2]:\n",
    "        pandig += [test2]\n",
    "print(\"Solution: \" + str(sum(set([x[2] for x in pandig]))))"
   ]
  }
 ],
 "metadata": {
  "anaconda-cloud": {},
  "kernelspec": {
   "display_name": "Python [default]",
   "language": "python",
   "name": "python3"
  },
  "language_info": {
   "codemirror_mode": {
    "name": "ipython",
    "version": 3
   },
   "file_extension": ".py",
   "mimetype": "text/x-python",
   "name": "python",
   "nbconvert_exporter": "python",
   "pygments_lexer": "ipython3",
   "version": "3.5.2"
  }
 },
 "nbformat": 4,
 "nbformat_minor": 1
}
