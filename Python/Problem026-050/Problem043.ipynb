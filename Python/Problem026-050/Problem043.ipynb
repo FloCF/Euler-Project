{
 "cells": [
  {
   "cell_type": "markdown",
   "metadata": {},
   "source": [
    "# Problem 43\n",
    "\n",
    "The number, $1406357289$, is a $0$ to $9$ pandigital number because it is made up of each of the digits $0$ to $9$ in some order, but it also has a rather interesting sub-string divisibility property.\n",
    "\n",
    "Let $d_1$ be the $1^{st}$ digit, $d_2$ be the $2^{nd}$ digit, and so on. In this way, we note the following:\n",
    "\n",
    "+ $d_2d_3d_4=406$ is divisible by $2$\n",
    "+ $d_3d_4d_5=063$ is divisible by $3$\n",
    "+ $d_4d_5d_6=635$ is divisible by $5$\n",
    "+ $d_5d_6d_7=357$ is divisible by $7$\n",
    "+ $d_6d_7d_8=572$ is divisible by $11$\n",
    "+ $d_7d_8d_9=728$ is divisible by $13$\n",
    "+ $d_8d_9d_{10}=289$ is divisible by $17$\n",
    "\n",
    "Find the sum of all $0$ to $9$ pandigital numbers with this property.\n"
   ]
  },
  {
   "cell_type": "code",
   "execution_count": 11,
   "metadata": {
    "collapsed": false
   },
   "outputs": [
    {
     "name": "stdout",
     "output_type": "stream",
     "text": [
      "Solution: 16695334890\n"
     ]
    }
   ],
   "source": [
    "from itertools import permutations\n",
    "\n",
    "raw = permutations(range(10))\n",
    "permuts = [\"\".join([str(x) for x in per]) for per in raw]\n",
    "divs = [2,3,5,7,11,13,17]\n",
    "\n",
    "special_pandigs = []\n",
    "for per in permuts:\n",
    "    decision = True\n",
    "    i = 2\n",
    "    while decision and i<=8:\n",
    "        if int(per[i-1]+per[i]+per[i+1])%divs[i-2]!=0:\n",
    "            decision = False\n",
    "        i += 1\n",
    "    if decision:\n",
    "        special_pandigs += [int(per)]\n",
    "    \n",
    "print(\"Solution: \" + str(sum(special_pandigs)))"
   ]
  }
 ],
 "metadata": {
  "anaconda-cloud": {},
  "kernelspec": {
   "display_name": "Python [default]",
   "language": "python",
   "name": "python3"
  },
  "language_info": {
   "codemirror_mode": {
    "name": "ipython",
    "version": 3
   },
   "file_extension": ".py",
   "mimetype": "text/x-python",
   "name": "python",
   "nbconvert_exporter": "python",
   "pygments_lexer": "ipython3",
   "version": "3.5.2"
  }
 },
 "nbformat": 4,
 "nbformat_minor": 1
}
