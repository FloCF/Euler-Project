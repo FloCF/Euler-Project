{
 "cells": [
  {
   "cell_type": "markdown",
   "metadata": {},
   "source": [
    "# Problem 31\n",
    "\n",
    "In England the currency is made up of pound, £, and pence, p, and there are eight coins in general circulation:\n",
    "\n",
    "    1p, 2p, 5p, 10p, 20p, 50p, £1 (100p) and £2 (200p).\n",
    "\n",
    "It is possible to make £2 in the following way:\n",
    "\n",
    "    1×£1 + 1×50p + 2×20p + 1×5p + 1×2p + 3×1p\n",
    "\n",
    "How many different ways can £2 be made using any number of coins?"
   ]
  },
  {
   "cell_type": "code",
   "execution_count": 8,
   "metadata": {
    "collapsed": false
   },
   "outputs": [
    {
     "name": "stdout",
     "output_type": "stream",
     "text": [
      "Solution: 73682\n"
     ]
    }
   ],
   "source": [
    "combinations = []\n",
    "for o_p in range(201):\n",
    "    \n",
    "    for t_p in range(101):\n",
    "        if o_p*1 + t_p*2 >200:\n",
    "            break\n",
    "            \n",
    "        for f_p in range(41):\n",
    "            if o_p*1 + t_p*2 + f_p*5 > 200:\n",
    "                break\n",
    "                \n",
    "            for ten_p in range(21):\n",
    "                if o_p*1 + t_p*2 + f_p*5 + ten_p*10 > 200:\n",
    "                    break\n",
    "                    \n",
    "                for twen_p in range(11):\n",
    "                    if o_p*1 + t_p*2 + f_p*5 + ten_p*10 + twen_p*20 > 200:\n",
    "                        break\n",
    "                        \n",
    "                    for fif_p in range(5):\n",
    "                        if o_p*1 + t_p*2 + f_p*5 + ten_p*10 + twen_p*20 + fif_p*50 > 200:\n",
    "                            break\n",
    "                            \n",
    "                        for o_pound in range(3):\n",
    "                            if o_p*1 + t_p*2 + f_p*5 + ten_p*10 + twen_p*20 + fif_p*50 + o_pound*100 > 200:\n",
    "                                break\n",
    "                                \n",
    "                            for t_pound in range(2):\n",
    "                                if o_p*1 + t_p*2 + f_p*5 + ten_p*10 + twen_p*20 + fif_p*50 + o_pound*100 + t_pound*200 ==200:\n",
    "                                    combinations += [(o_p, t_p, f_p, ten_p, twen_p, fif_p, o_pound, t_pound)]\n",
    "print(\"Solution: \" + str(len(combinations)))"
   ]
  }
 ],
 "metadata": {
  "anaconda-cloud": {},
  "kernelspec": {
   "display_name": "Python [default]",
   "language": "python",
   "name": "python3"
  },
  "language_info": {
   "codemirror_mode": {
    "name": "ipython",
    "version": 3
   },
   "file_extension": ".py",
   "mimetype": "text/x-python",
   "name": "python",
   "nbconvert_exporter": "python",
   "pygments_lexer": "ipython3",
   "version": "3.5.2"
  }
 },
 "nbformat": 4,
 "nbformat_minor": 1
}
