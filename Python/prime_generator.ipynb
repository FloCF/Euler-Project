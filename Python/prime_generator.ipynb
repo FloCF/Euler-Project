{
 "cells": [
  {
   "cell_type": "code",
   "execution_count": 2,
   "metadata": {
    "collapsed": false
   },
   "outputs": [
    {
     "name": "stdout",
     "output_type": "stream",
     "text": [
      "Runtime prime_gen: 0.0033929999999999794\n"
     ]
    },
    {
     "ename": "KeyboardInterrupt",
     "evalue": "",
     "output_type": "error",
     "traceback": [
      "\u001b[0;31m---------------------------------------------------------------------------\u001b[0m",
      "\u001b[0;31mKeyboardInterrupt\u001b[0m                         Traceback (most recent call last)",
      "\u001b[0;32m<ipython-input-2-9f2e1e8e9b0c>\u001b[0m in \u001b[0;36m<module>\u001b[0;34m()\u001b[0m\n\u001b[1;32m     42\u001b[0m \u001b[0;34m\u001b[0m\u001b[0m\n\u001b[1;32m     43\u001b[0m \u001b[0mstart\u001b[0m \u001b[0;34m=\u001b[0m \u001b[0mtime\u001b[0m\u001b[0;34m.\u001b[0m\u001b[0mclock\u001b[0m\u001b[0;34m(\u001b[0m\u001b[0;34m)\u001b[0m\u001b[0;34m\u001b[0m\u001b[0m\n\u001b[0;32m---> 44\u001b[0;31m \u001b[0mtest2\u001b[0m \u001b[0;34m=\u001b[0m \u001b[0mprime_gen\u001b[0m\u001b[0;34m(\u001b[0m\u001b[0mn\u001b[0m\u001b[0;34m)\u001b[0m\u001b[0;34m\u001b[0m\u001b[0m\n\u001b[0m\u001b[1;32m     45\u001b[0m \u001b[0mend\u001b[0m \u001b[0;34m=\u001b[0m \u001b[0mtime\u001b[0m\u001b[0;34m.\u001b[0m\u001b[0mclock\u001b[0m\u001b[0;34m(\u001b[0m\u001b[0;34m)\u001b[0m\u001b[0;34m\u001b[0m\u001b[0m\n\u001b[1;32m     46\u001b[0m \u001b[0mprint\u001b[0m\u001b[0;34m(\u001b[0m\u001b[0;34m\"Runtime prime_gen: \"\u001b[0m \u001b[0;34m+\u001b[0m \u001b[0mstr\u001b[0m\u001b[0;34m(\u001b[0m\u001b[0mend\u001b[0m\u001b[0;34m-\u001b[0m\u001b[0mstart\u001b[0m\u001b[0;34m)\u001b[0m\u001b[0;34m)\u001b[0m\u001b[0;34m\u001b[0m\u001b[0m\n",
      "\u001b[0;32m<ipython-input-2-9f2e1e8e9b0c>\u001b[0m in \u001b[0;36mprime_gen\u001b[0;34m(lim)\u001b[0m\n\u001b[1;32m     20\u001b[0m \u001b[0;34m\u001b[0m\u001b[0m\n\u001b[1;32m     21\u001b[0m     \u001b[0;32mfor\u001b[0m \u001b[0mi\u001b[0m \u001b[0;32min\u001b[0m \u001b[0mrange\u001b[0m\u001b[0;34m(\u001b[0m\u001b[0;36m3\u001b[0m\u001b[0;34m,\u001b[0m\u001b[0mlim\u001b[0m\u001b[0;34m,\u001b[0m\u001b[0;36m2\u001b[0m\u001b[0;34m)\u001b[0m\u001b[0;34m:\u001b[0m\u001b[0;34m\u001b[0m\u001b[0m\n\u001b[0;32m---> 22\u001b[0;31m         \u001b[0;32mif\u001b[0m \u001b[0mall\u001b[0m\u001b[0;34m(\u001b[0m\u001b[0mi\u001b[0m\u001b[0;34m%\u001b[0m\u001b[0mprimes\u001b[0m\u001b[0;34m!=\u001b[0m\u001b[0;36m0\u001b[0m\u001b[0;34m)\u001b[0m\u001b[0;34m:\u001b[0m\u001b[0;34m\u001b[0m\u001b[0m\n\u001b[0m\u001b[1;32m     23\u001b[0m             \u001b[0mprimes\u001b[0m \u001b[0;34m=\u001b[0m \u001b[0mnp\u001b[0m\u001b[0;34m.\u001b[0m\u001b[0mappend\u001b[0m\u001b[0;34m(\u001b[0m\u001b[0mprimes\u001b[0m\u001b[0;34m,\u001b[0m\u001b[0;34m[\u001b[0m\u001b[0mi\u001b[0m\u001b[0;34m]\u001b[0m\u001b[0;34m)\u001b[0m\u001b[0;34m\u001b[0m\u001b[0m\n\u001b[1;32m     24\u001b[0m \u001b[0;34m\u001b[0m\u001b[0m\n",
      "\u001b[0;31mKeyboardInterrupt\u001b[0m: "
     ]
    }
   ],
   "source": [
    "import numpy as np\n",
    "import time\n",
    "\n",
    "def primesfrom2to(n):\n",
    "    \"\"\" Input n>=6, Returns a array of primes, 2 <= p < n \"\"\"\n",
    "    sieve = np.ones(int(n/3 + (n%6==2)), dtype=np.bool)\n",
    "    sieve[0] = False\n",
    "    for i in range(int(int(n**0.5)/3+1)):\n",
    "        if sieve[i]:\n",
    "            k=3*i+1|1\n",
    "            sieve[      int(((k*k)/3))      ::2*k] = False\n",
    "            sieve[int((k*k+4*k-2*k*(i&1))/3)::2*k] = False\n",
    "    return np.r_[2,3,((3*np.nonzero(sieve)[0]+1)|1)]\n",
    "\n",
    "def prime_gen(lim):\n",
    "    \n",
    "    primes = np.array([])\n",
    "    if all(2%primes!=0):\n",
    "        primes = np.append(primes,[2])\n",
    "        \n",
    "    for i in range(3,lim,2):\n",
    "        if all(i%primes!=0):\n",
    "            primes = np.append(primes,[i])\n",
    "        \n",
    "    return [int(x) for x in primes]\n",
    "\n",
    "def prime_gen1(lim):\n",
    "    \n",
    "    numbers = np.arange(2,lim+1)\n",
    "    i = 0\n",
    "    while i!=(len(numbers)-1):\n",
    "        numbers = np.append([numbers[i]],numbers[numbers%numbers[i]!=0])\n",
    "        i += 1\n",
    "    return sorted([int(x) for x in numbers])\n",
    "\n",
    "n=1000000\n",
    "\n",
    "start = time.clock()\n",
    "test1 = primesfrom2to(1000000)\n",
    "end = time.clock()\n",
    "print(\"Runtime prime_gen: \" + str(end-start))\n",
    "\n",
    "start = time.clock()\n",
    "test2 = prime_gen(n)\n",
    "end = time.clock()\n",
    "print(\"Runtime prime_gen: \" + str(end-start))\n",
    "\n",
    "start = time.clock()\n",
    "test3 = prime_gen(n)\n",
    "end = time.clock()\n",
    "print(\"Runtime prime_gen1: \" + str(end-start))"
   ]
  },
  {
   "cell_type": "code",
   "execution_count": 8,
   "metadata": {
    "collapsed": false
   },
   "outputs": [
    {
     "name": "stdout",
     "output_type": "stream",
     "text": [
      "Runtime prime_gen: 0.0003279999999996619\n",
      "[2 3]\n"
     ]
    },
    {
     "data": {
      "text/plain": [
       "numpy.ndarray"
      ]
     },
     "execution_count": 8,
     "metadata": {},
     "output_type": "execute_result"
    }
   ],
   "source": [
    "def primesfrom2to(n):\n",
    "    \"\"\" Input n>=6, Returns a array of primes, 2 <= p < n \"\"\"\n",
    "    sieve = np.ones(int(n/3 + (n%6==2)), dtype=np.bool)\n",
    "    sieve[0] = False\n",
    "    for i in range(int(int(n**0.5)/3+1)):\n",
    "        if sieve[i]:\n",
    "            k=3*i+1|1\n",
    "            sieve[      int(((k*k)/3))      ::2*k] = False\n",
    "            sieve[int((k*k+4*k-2*k*(i&1))/3)::2*k] = False\n",
    "    return np.r_[2,3,((3*np.nonzero(sieve)[0]+1)|1)]\n",
    "\n",
    "start = time.clock()\n",
    "test3 = primesfrom2to(2)\n",
    "end = time.clock()\n",
    "print(\"Runtime prime_gen: \" + str(end-start))\n",
    "print(test3)\n",
    "type(test3)"
   ]
  }
 ],
 "metadata": {
  "anaconda-cloud": {},
  "kernelspec": {
   "display_name": "Python [default]",
   "language": "python",
   "name": "python3"
  },
  "language_info": {
   "codemirror_mode": {
    "name": "ipython",
    "version": 3
   },
   "file_extension": ".py",
   "mimetype": "text/x-python",
   "name": "python",
   "nbconvert_exporter": "python",
   "pygments_lexer": "ipython3",
   "version": "3.5.2"
  }
 },
 "nbformat": 4,
 "nbformat_minor": 1
}
