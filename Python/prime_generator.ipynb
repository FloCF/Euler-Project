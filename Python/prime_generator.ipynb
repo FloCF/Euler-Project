{
 "cells": [
  {
   "cell_type": "code",
   "execution_count": 29,
   "metadata": {
    "collapsed": false
   },
   "outputs": [
    {
     "name": "stdout",
     "output_type": "stream",
     "text": [
      "Runtime prime_gen: 435.29931899999997\n",
      "Runtime prime_gen1: 438.79926800000004\n"
     ]
    }
   ],
   "source": [
    "import numpy as np\n",
    "import time\n",
    "\n",
    "def primesfrom2to(n):\n",
    "    \"\"\" Input n>=6, Returns a array of primes, 2 <= p < n \"\"\"\n",
    "    sieve = np.ones(int(n/3 + (n%6==2)), dtype=np.bool)\n",
    "    sieve[0] = False\n",
    "    for i in range(int(int(n**0.5)/3+1)):\n",
    "        if sieve[i]:\n",
    "            k=3*i+1|1\n",
    "            sieve[      int(((k*k)/3))      ::2*k] = False\n",
    "            sieve[int((k*k+4*k-2*k*(i&1))/3)::2*k] = False\n",
    "    return np.r_[2,3,((3*np.nonzero(sieve)[0]+1)|1)]\n",
    "\n",
    "def prime_gen(lim):\n",
    "    \n",
    "    primes = np.array([])\n",
    "    if all(2%primes!=0):\n",
    "        primes = np.append(primes,[2])\n",
    "        \n",
    "    for i in range(3,lim,2):\n",
    "        if all(i%primes!=0):\n",
    "            primes = np.append(primes,[i])\n",
    "        \n",
    "    return [int(x) for x in primes]\n",
    "\n",
    "def prime_gen1(lim):\n",
    "    \n",
    "    numbers = np.arange(2,lim+1)\n",
    "    i = 0\n",
    "    while i!=(len(numbers)-1):\n",
    "        numbers = np.append([numbers[i]],numbers[numbers%numbers[i]!=0])\n",
    "        i += 1\n",
    "    return sorted([int(x) for x in numbers])\n",
    "\n",
    "n=1000000\n",
    "\n",
    "start = time.clock()\n",
    "test1 = primesfrom2to(1000000)\n",
    "end = time.clock()\n",
    "print(\"Runtime prime_gen: \" + str(end-start))\n",
    "\n",
    "start = time.clock()\n",
    "test2 = prime_gen(n)\n",
    "end = time.clock()\n",
    "print(\"Runtime prime_gen: \" + str(end-start))\n",
    "\n",
    "start = time.clock()\n",
    "test3 = prime_gen(n)\n",
    "end = time.clock()\n",
    "print(\"Runtime prime_gen1: \" + str(end-start))"
   ]
  },
  {
   "cell_type": "code",
   "execution_count": 49,
   "metadata": {
    "collapsed": false
   },
   "outputs": [
    {
     "name": "stdout",
     "output_type": "stream",
     "text": [
      "Runtime prime_gen: 0.7604959999999892\n",
      "[       2        3        5 ..., 99999959 99999971 99999989]\n"
     ]
    }
   ],
   "source": [
    "def primesfrom2to(n):\n",
    "    \"\"\" Input n>=6, Returns a array of primes, 2 <= p < n \"\"\"\n",
    "    sieve = np.ones(int(n/3 + (n%6==2)), dtype=np.bool)\n",
    "    sieve[0] = False\n",
    "    for i in range(int(int(n**0.5)/3+1)):\n",
    "        if sieve[i]:\n",
    "            k=3*i+1|1\n",
    "            sieve[      int(((k*k)/3))      ::2*k] = False\n",
    "            sieve[int((k*k+4*k-2*k*(i&1))/3)::2*k] = False\n",
    "    return np.r_[2,3,((3*np.nonzero(sieve)[0]+1)|1)]\n",
    "\n",
    "start = time.clock()\n",
    "test3 = primesfrom2to(100000000)\n",
    "end = time.clock()\n",
    "print(\"Runtime prime_gen: \" + str(end-start))\n",
    "print(test3)"
   ]
  }
 ],
 "metadata": {
  "anaconda-cloud": {},
  "kernelspec": {
   "display_name": "Python [default]",
   "language": "python",
   "name": "python3"
  },
  "language_info": {
   "codemirror_mode": {
    "name": "ipython",
    "version": 3
   },
   "file_extension": ".py",
   "mimetype": "text/x-python",
   "name": "python",
   "nbconvert_exporter": "python",
   "pygments_lexer": "ipython3",
   "version": "3.5.2"
  }
 },
 "nbformat": 4,
 "nbformat_minor": 1
}
