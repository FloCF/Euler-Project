{
 "cells": [
  {
   "cell_type": "markdown",
   "metadata": {},
   "source": [
    "# Problem 67\n",
    "\n",
    "\n",
    "\n",
    "By starting at the top of the triangle below and moving to adjacent numbers on the row below, the maximum total from top to bottom is $23$.\n",
    "\n",
    "$$\\color{red}{3}\\\\\n",
    "  \\color{red}{7}\\;4\\\\\n",
    " 2\\;\\color{red}{4}\\;6\\\\\n",
    "8\\;5\\;\\color{red}{9}\\;3$$\n",
    "That is, $3 + 7 + 4 + 9 = 23$.\n",
    "\n",
    "Find the maximum total from top to bottom in triangle.txt (right click and 'Save Link/Target As...'), a 15K text file containing a triangle with one-hundred rows.\n",
    "\n",
    "**NOTE:** This is a much more difficult version of Problem 18. It is not possible to try every route to solve this problem, as there are $2^{99}$ altogether! If you could check one trillion ($10^{12}$) routes every second it would take over twenty billion years to check them all. There is an efficient algorithm to solve it. ;o)\n"
   ]
  },
  {
   "cell_type": "code",
   "execution_count": 1,
   "metadata": {
    "collapsed": false
   },
   "outputs": [
    {
     "name": "stdout",
     "output_type": "stream",
     "text": [
      "Solution: 7273\n"
     ]
    }
   ],
   "source": [
    "f = open(\"Problem067_data.txt\",\"r\")\n",
    "data = []\n",
    "for line in f:\n",
    "    data += [line[:-1].split(\" \")]\n",
    "data = [[int(dig) for dig in line] for line in data]\n",
    "for i in range(1,len(data)+1):\n",
    "    max_line = []\n",
    "    for j in range(1,len(data[len(data)-i])):\n",
    "        data[len(data)-i-1][j-1] = data[len(data)-i-1][j-1] + max([data[len(data)-i][j-1],data[len(data)-i][j]])\n",
    "print(\"Solution: \" + str(data[0][0]))"
   ]
  }
 ],
 "metadata": {
  "anaconda-cloud": {},
  "kernelspec": {
   "display_name": "Python [default]",
   "language": "python",
   "name": "python3"
  },
  "language_info": {
   "codemirror_mode": {
    "name": "ipython",
    "version": 3
   },
   "file_extension": ".py",
   "mimetype": "text/x-python",
   "name": "python",
   "nbconvert_exporter": "python",
   "pygments_lexer": "ipython3",
   "version": "3.5.2"
  }
 },
 "nbformat": 4,
 "nbformat_minor": 1
}
