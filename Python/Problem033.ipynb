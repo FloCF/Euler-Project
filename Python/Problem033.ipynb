{
 "cells": [
  {
   "cell_type": "markdown",
   "metadata": {},
   "source": [
    "# Problem 33\n",
    "\n",
    "The fraction $49/98$ is a curious fraction, as an inexperienced mathematician in attempting to simplify it may incorrectly believe that $49/98 = 4/8$, which is correct, is obtained by cancelling the $9s$.\n",
    "\n",
    "We shall consider fractions like, $30/50 = 3/5$, to be trivial examples.\n",
    "\n",
    "There are exactly four non-trivial examples of this type of fraction, less than one in value, and containing two digits in the numerator and denominator.\n",
    "\n",
    "If the product of these four fractions is given in its lowest common terms, find the value of the denominator."
   ]
  },
  {
   "cell_type": "code",
   "execution_count": 50,
   "metadata": {
    "collapsed": false
   },
   "outputs": [
    {
     "name": "stdout",
     "output_type": "stream",
     "text": [
      "Solution: 100\n"
     ]
    }
   ],
   "source": [
    "def shorten(frac = (num,denum)):\n",
    "    \n",
    "    not_finished = True\n",
    "    num = frac[0]\n",
    "    denum = frac[1]\n",
    "    while not_finished:\n",
    "        for i in range(1,num+1)[::-1]:\n",
    "            if i==1:\n",
    "                not_finished = False\n",
    "            elif num%i==0 and denum%i==0:\n",
    "                num = int(num/i)\n",
    "                denum = int(denum/i)\n",
    "                break\n",
    "    return (num,denum)\n",
    "\n",
    "fracs = []\n",
    "for num in range(10,100):\n",
    "    for denum in range(num,100):\n",
    "        digs_num = list(str(num))\n",
    "        digs_denum = list(str(denum))\n",
    "        \n",
    "        if digs_num[0]==digs_denum[0]:\n",
    "            if digs_num[1]!=\"0\" and digs_denum[1]!=\"0\":\n",
    "                if digs_num!=digs_denum and num/denum==int(digs_num[1])/int(digs_denum[1]):\n",
    "                    fracs += [(num,denum)]\n",
    "        \n",
    "        elif digs_num[0]==digs_denum[1]:\n",
    "            if digs_num[1]!=\"0\" and digs_denum[0]!=\"0\":\n",
    "                if digs_num!=digs_denum and num/denum==int(digs_num[1])/int(digs_denum[0]):\n",
    "                    fracs += [(num,denum)]\n",
    "       \n",
    "        elif digs_num[1]==digs_denum[0]:\n",
    "            if digs_num[0]!=\"0\" and digs_denum[1]!=\"0\":\n",
    "                if digs_num!=digs_denum and num/denum==int(digs_num[0])/int(digs_denum[1]):\n",
    "                    fracs += [(num,denum)]\n",
    "                \n",
    "        elif digs_num[1]==digs_denum[1] and digs_denum[1]!=\"0\":\n",
    "            if digs_num[0]!=\"0\" and digs_denum[0]!=\"0\":\n",
    "                if digs_num!=digs_denum and num/denum==int(digs_num[0])/int(digs_denum[0]):\n",
    "                    fracs += [(num,denum)] \n",
    "\n",
    "num = 1\n",
    "denum = 1\n",
    "for frac in fracs:\n",
    "    num *= frac[0]\n",
    "    denum *= frac[1]\n",
    "print(\"Solution: \" + str(shorten((num,denum))[1]))"
   ]
  }
 ],
 "Ketadata": {
  "anaconda-cloud": {},
  "kernelspec": {
   "display_name": "Python [default]",
   "language": "python",
   "name": "python3"
  },
  "language_info": {
   "codemirror_mode": {
    "name": "ipython",
    "version": 3
   },
   "file_extension": ".py",
   "mimetype": "text/x-python",
   "name": "python",
   "nbconvert_exporter": "python",
   "pygments_lexer": "ipython3",
   "version": "3.5.2"
  }
 },
 "nbformat": 4,
 "nbformat_minor": 1
}
