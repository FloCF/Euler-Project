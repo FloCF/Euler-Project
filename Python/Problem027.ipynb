{
 "cells": [
  {
   "cell_type": "markdown",
   "metadata": {},
   "source": [
    "# Problem 27\n",
    "\n",
    "Euler discovered the remarkable quadratic formula:\n",
    "$$\n",
    "n^2+n+41\n",
    "$$\n",
    "\n",
    "It turns out that the formula will produce $40$ primes for the consecutive integer values $0≤n≤39$. However, when $n=40,40^2+40+41=40(40+1)+41$ is divisible by $41$, and certainly when $n=41,41^2+41+41$ is clearly divisible by $41$.\n",
    "\n",
    "The incredible formula $n^2−79n+1601$ was discovered, which produces $80$ primes for the consecutive values $0≤n≤79$. The product of the coefficients, $−79$ and $1601$, is $−126479$.\n",
    "\n",
    "Considering quadratics of the form:\n",
    "$$\n",
    "n^2+an+b \\text{, where } |a|<1000 \\text{ and } |b|≤1000\n",
    "$$\n",
    "\n",
    "where $|n|$ is the modulus/absolute value of $n$, e.g. $|11|=11$ and $|−4|=4$.\n",
    "\n",
    "Find the product of the coefficients, $a$ and $b$, for the quadratic expression that produces the maximum number of primes for consecutive values of n, starting with $n=0$."
   ]
  },
  {
   "cell_type": "code",
   "execution_count": 56,
   "metadata": {
    "collapsed": false,
    "scrolled": true
   },
   "outputs": [
    {
     "name": "stdout",
     "output_type": "stream",
     "text": [
      "Maximal Euler: [71, (-61, 971)]\n",
      "Solution: -59231\n"
     ]
    }
   ],
   "source": [
    "import numpy as np\n",
    "\n",
    "def test_hypo(n,a,b):\n",
    "    if (n**2 + a*n + b)<0:\n",
    "        return False\n",
    "    if any((n**2 + a*n + b)%np.arange(2,(n**2 + a*n + b))==0):\n",
    "        return False\n",
    "    else:\n",
    "        return True\n",
    "    \n",
    "#absolute value of a and b should be smaller/smaller equal than:\n",
    "a_lim = 1000\n",
    "b_lim = 1000\n",
    "\n",
    "max_euler = [0,(0,0)]\n",
    "for a in range(-a_lim+1,a_lim):\n",
    "    for b in range(-b_lim,b_lim+1):\n",
    "        n = 0\n",
    "        while test_hypo(n,a,b):\n",
    "            n += 1\n",
    "        if n>max_euler[0]:\n",
    "            max_euler = [n,(a,b)]\n",
    "print(\"Maximal Euler: \" + str(max_euler))\n",
    "print(\"Solution: \" + str(max_euler[1][0]*max_euler[1][1]))"
   ]
  }
 ],
 "metadata": {
  "anaconda-cloud": {},
  "kernelspec": {
   "display_name": "Python [default]",
   "language": "python",
   "name": "python3"
  },
  "language_info": {
   "codemirror_mode": {
    "name": "ipython",
    "version": 3
   },
   "file_extension": ".py",
   "mimetype": "text/x-python",
   "name": "python",
   "nbconvert_exporter": "python",
   "pygments_lexer": "ipython3",
   "version": "3.5.2"
  }
 },
 "nbformat": 4,
 "nbformat_minor": 1
}
