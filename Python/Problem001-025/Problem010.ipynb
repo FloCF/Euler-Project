{
 "cells": [
  {
   "cell_type": "markdown",
   "metadata": {},
   "source": [
    "# Problem 10\n",
    "\n",
    "The sum of the primes below $10$ is $2 + 3 + 5 + 7$ = $17$.\n",
    "\n",
    "Find the sum of all the primes below two million."
   ]
  },
  {
   "cell_type": "code",
   "execution_count": 1,
   "metadata": {
    "collapsed": false
   },
   "outputs": [
    {
     "name": "stdout",
     "output_type": "stream",
     "text": [
      "Solution: 17\n"
     ]
    }
   ],
   "source": [
    "import numpy as np\n",
    "\n",
    "maxi = 2000000\n",
    "primes = np.array([2])\n",
    "\n",
    "for i in range(3,maxi):\n",
    "    if any(i%primes==0)==False:\n",
    "        primes = np.append(primes,[i])\n",
    "print(\"Solution: \" + str((primes).sum()))"
   ]
  }
 ],
 "metadata": {
  "anaconda-cloud": {},
  "kernelspec": {
   "display_name": "Python [default]",
   "language": "python",
   "name": "python3"
  },
  "language_info": {
   "codemirror_mode": {
    "name": "ipython",
    "version": 3
   },
   "file_extension": ".py",
   "mimetype": "text/x-python",
   "name": "python",
   "nbconvert_exporter": "python",
   "pygments_lexer": "ipython3",
   "version": "3.5.2"
  }
 },
 "nbformat": 4,
 "nbformat_minor": 1
}
