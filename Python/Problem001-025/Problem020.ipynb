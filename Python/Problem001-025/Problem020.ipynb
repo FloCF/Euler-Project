{
 "cells": [
  {
   "cell_type": "markdown",
   "metadata": {},
   "source": [
    "# Problem 20\n",
    "\n",
    "$n!$ means $n \\times (n − 1) \\times ... \\times 3 \\times 2 \\times 1$\n",
    "\n",
    "For example, $10! = 10 \\times 9 \\times ... \\times 3 \\times 2 \\times 1 = 3628800$,\n",
    "and the sum of the digits in the number $10!$ is $3 + 6 + 2 + 8 + 8 + 0 + 0 = 27$.\n",
    "\n",
    "Find the sum of the digits in the number $100!$"
   ]
  },
  {
   "cell_type": "code",
   "execution_count": 19,
   "metadata": {
    "collapsed": false
   },
   "outputs": [
    {
     "name": "stdout",
     "output_type": "stream",
     "text": [
      "Solution: 648\n"
     ]
    }
   ],
   "source": [
    "from math import factorial\n",
    "\n",
    "number = list(str(factorial(100)))\n",
    "print(\"Solution: \" + str(sum([int(dig) for dig in number])))"
   ]
  }
 ],
 "metadata": {
  "anaconda-cloud": {},
  "kernelspec": {
   "display_name": "Python [default]",
   "language": "python",
   "name": "python3"
  },
  "language_info": {
   "codemirror_mode": {
    "name": "ipython",
    "version": 3
   },
   "file_extension": ".py",
   "mimetype": "text/x-python",
   "name": "python",
   "nbconvert_exporter": "python",
   "pygments_lexer": "ipython3",
   "version": "3.5.2"
  }
 },
 "nbformat": 4,
 "nbformat_minor": 1
}
