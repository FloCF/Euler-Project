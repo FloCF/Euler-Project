{
 "cells": [
  {
   "cell_type": "markdown",
   "metadata": {},
   "source": [
    "# Problem 4\n",
    "\n",
    "A palindromic number reads the same both ways. The largest palindrome made from the product of two 2-digit numbers is $9009 = 91 \\times 99$.\n",
    "\n",
    "Find the largest palindrome made from the product of two 3-digit numbers."
   ]
  },
  {
   "cell_type": "code",
   "execution_count": 49,
   "metadata": {
    "collapsed": false
   },
   "outputs": [
    {
     "name": "stdout",
     "output_type": "stream",
     "text": [
      "Solution: 906609\n"
     ]
    }
   ],
   "source": [
    "import numpy as np\n",
    "\n",
    "def palin(n): \n",
    "    if str(n)[0]==str(n)[-1] and str(n)[1]==str(n)[-2] and str(n)[2]==str(n)[-3]: return True\n",
    "    else: return False\n",
    "    \n",
    "test_set = np.arange(10,1000)\n",
    "\n",
    "test_set = test_set.reshape(len(test_set),1)\n",
    "test_set = np.dot(test_set,test_set.T).reshape(len(test_set)**2,)\n",
    "index = [ palin(x) for x in test_set ]\n",
    "print(\"Solution: \" + str(test_set[index].max()))"
   ]
  }
 ],
 "metadata": {
  "anaconda-cloud": {},
  "kernelspec": {
   "display_name": "Python [default]",
   "language": "python",
   "name": "python3"
  },
  "language_info": {
   "codemirror_mode": {
    "name": "ipython",
    "version": 3
   },
   "file_extension": ".py",
   "mimetype": "text/x-python",
   "name": "python",
   "nbconvert_exporter": "python",
   "pygments_lexer": "ipython3",
   "version": "3.5.2"
  }
 },
 "nbformat": 4,
 "nbformat_minor": 1
}
