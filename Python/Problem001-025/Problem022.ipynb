{
 "cells": [
  {
   "cell_type": "markdown",
   "metadata": {},
   "source": [
    "# Problem 22\n",
    "\n",
    "Using *Problem022_data.txt* (right click and 'Save Link/Target As...'), a 46K text file containing over five-thousand first names, begin by sorting it into alphabetical order. Then working out the alphabetical value for each name, multiply this value by its alphabetical position in the list to obtain a name score.\n",
    "\n",
    "For example, when the list is sorted into alphabetical order, COLIN, which is worth $3 + 15 + 12 + 9 + 14 = 53$, is the 938th name in the list. So, COLIN would obtain a score of 938 × 53 = 49714.\n",
    "\n",
    "What is the total of all the name scores in the file?"
   ]
  },
  {
   "cell_type": "code",
   "execution_count": 95,
   "metadata": {
    "collapsed": false
   },
   "outputs": [
    {
     "name": "stdout",
     "output_type": "stream",
     "text": [
      "Solution: 871198282\n"
     ]
    }
   ],
   "source": [
    "f = open(\"Problem022_data.txt\",\"r\")\n",
    "\n",
    "for text in f:\n",
    "    data = text\n",
    "data = [x[1:-1] for x in data.split(\",\")]\n",
    "sorted_names = sorted(data)\n",
    "name_scores = []\n",
    "for i in range(len(sorted_names)):\n",
    "    name_scores += [sum([ord(char)-64 for char in list(sorted_names[i])])*(i+1)]\n",
    "\n",
    "print(\"Solution: \" + str(sum(name_scores)))"
   ]
  }
 ],
 "metadata": {
  "anaconda-cloud": {},
  "kernelspec": {
   "display_name": "Python [default]",
   "language": "python",
   "name": "python3"
  },
  "language_info": {
   "codemirror_mode": {
    "name": "ipython",
    "version": 3
   },
   "file_extension": ".py",
   "mimetype": "text/x-python",
   "name": "python",
   "nbconvert_exporter": "python",
   "pygments_lexer": "ipython3",
   "version": "3.5.2"
  }
 },
 "nbformat": 4,
 "nbformat_minor": 1
}
