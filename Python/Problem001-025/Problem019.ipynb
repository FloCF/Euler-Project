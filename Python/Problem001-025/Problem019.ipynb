{
 "cells": [
  {
   "cell_type": "markdown",
   "metadata": {},
   "source": [
    "# Problem 19\n",
    "\n",
    "\n",
    "\n",
    "You are given the following information, but you may prefer to do some research for yourself.\n",
    "\n",
    "- 1 Jan 1900 was a Monday.\n",
    "- Thirty days has September,<br>April, June and November.<br>All the rest have thirty-one,<br>Saving February alone,<br>Which has twenty-eight, rain or shine.<br>And on leap years, twenty-nine.\n",
    "- A leap year occurs on any year evenly divisible by 4, but not on a century unless it is divisible by 400.\n",
    "\n",
    "How many Sundays fell on the first of the month during the twentieth century (1 Jan 1901 to 31 Dec 2000)?\n"
   ]
  },
  {
   "cell_type": "code",
   "execution_count": 61,
   "metadata": {
    "collapsed": false
   },
   "outputs": [
    {
     "name": "stdout",
     "output_type": "stream",
     "text": [
      "Solution: 171\n"
     ]
    }
   ],
   "source": [
    "import numpy as np\n",
    "\n",
    "days_name   = [\"Monday\",\"Tuesday\",\"Wednesday\",\"Thursday\",\"Friday\",\"Saturday\",\"Sunday\"]\n",
    "months_name = [\"Jan\",\"Feb\",\"Mar\",\"Apr\",\"May\",\"Jun\",\"Jul\",\"Aug\",\"Sep\",\"Oct\",\"Nov\",\"Dec\"]\n",
    "\n",
    "year  = 1900\n",
    "day   = 0\n",
    "kalender = []\n",
    "while year<2001:\n",
    "    \n",
    "    leap = False\n",
    "    if year%4==0 and year!=1900:\n",
    "        leap = True\n",
    "        \n",
    "    for month in range(12):\n",
    "        if (month==np.array([0,2,4,6,7,9,11])).any():\n",
    "            for date in range(1,32):\n",
    "                kalender += [(days_name[day],date,months_name[month],year)]\n",
    "                day += 1\n",
    "                if day == 7:\n",
    "                    day = 0\n",
    "        if (month==np.array([3,5,8,10])).any():\n",
    "            for date in range(1,31):\n",
    "                kalender += [(days_name[day],date,months_name[month],year)]\n",
    "                day += 1\n",
    "                if day == 7:\n",
    "                    day = 0\n",
    "        if month==1:\n",
    "            if leap:\n",
    "                for date in range(1,30):\n",
    "                    kalender += [(days_name[day],date,months_name[month],year)]\n",
    "                    day += 1\n",
    "                    if day == 7:\n",
    "                        day = 0\n",
    "            else:\n",
    "                for date in range(1,29):\n",
    "                    kalender += [(days_name[day],date,months_name[month],year)]\n",
    "                    day += 1\n",
    "                    if day == 7:\n",
    "                        day = 0\n",
    "                        \n",
    "    year += 1\n",
    "\n",
    "kalender = kalender[365:]\n",
    "\n",
    "solution = 0\n",
    "for days in kalender:\n",
    "    if days[0:2]==(\"Sunday\",1):\n",
    "        solution += 1\n",
    "print(\"Solution: \" + str(solution))"
   ]
  }
 ],
 "metadata": {
  "anaconda-cloud": {},
  "kernelspec": {
   "display_name": "Python [default]",
   "language": "python",
   "name": "python3"
  },
  "language_info": {
   "codemirror_mode": {
    "name": "ipython",
    "version": 3
   },
   "file_extension": ".py",
   "mimetype": "text/x-python",
   "name": "python",
   "nbconvert_exporter": "python",
   "pygments_lexer": "ipython3",
   "version": "3.5.2"
  }
 },
 "nbformat": 4,
 "nbformat_minor": 1
}
