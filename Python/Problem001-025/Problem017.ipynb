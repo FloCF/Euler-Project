{
 "cells": [
  {
   "cell_type": "markdown",
   "metadata": {},
   "source": [
    "# Problem 17\n",
    "\n",
    "If the numbers $1$ to $5$ are written out in words: *one, two, three, four, five,* then there are $3 + 3 + 5 + 4 + 4 = 19$ letters used in total.\n",
    "\n",
    "If all the numbers from $1$ to $1000$ (*one thousand*) inclusive were written out in words, how many letters would be used?\n",
    "\n",
    "**NOTE**: Do not count spaces or hyphens. For example, $342$ (*three hundred and forty-two*) contains $23$ letters and $115$ (*one hundred and fifteen*) contains $20$ letters. The use of \"and\" when writing out numbers is in compliance with British usage."
   ]
  },
  {
   "cell_type": "code",
   "execution_count": 81,
   "metadata": {
    "collapsed": false
   },
   "outputs": [
    {
     "name": "stdout",
     "output_type": "stream",
     "text": [
      "Solution: 21124\n"
     ]
    }
   ],
   "source": [
    "def int2word(n):\n",
    "    ones = [\"\", \"one\",\"two\",\"three\",\"four\", \"five\",\n",
    "    \"six\",\"seven\",\"eight\",\"nine\"]\n",
    "    tens = [\"ten\",\"eleven\",\"twelve\",\"thirteen\", \"fourteen\",\n",
    "    \"fifteen\",\"sixteen\",\"seventeen\",\"eighteen\",\"nineteen\"]\n",
    "    twenties = [\"\",\"\",\"twenty\",\"thirty\",\"forty\",\n",
    "    \"fifty\",\"sixty\",\"seventy\",\"eighty\",\"ninety\"]\n",
    "    n_str = str(n)\n",
    "    if len(n_str)==4:\n",
    "        nw = ones[int(n_str[0])] + \" thousand\"\n",
    "    elif len(n_str)==3:\n",
    "        nw = ones[int(n_str[0])] + \" hundred\"\n",
    "        if n_str[1]==\"0\":\n",
    "            if n_str[2]!=\"0\":\n",
    "                nw += \" and \" + ones[int(n_str[2])]\n",
    "        else:\n",
    "            if n_str[1]==\"1\":\n",
    "                nw += \" and \" + tens[int(n_str[2])]\n",
    "            else:\n",
    "                if n_str[2]==\"0\":\n",
    "                    nw += \" and \" + twenties[int(n_str[1])]\n",
    "                else:\n",
    "                    nw += \" and \" + twenties[int(n_str[1])] + \"-\" + ones[int(n_str[2])]\n",
    "    elif len(n_str)==2:\n",
    "        if n_str[0]==\"1\":\n",
    "            nw = tens[int(n_str[1])]\n",
    "        else:\n",
    "            if n_str[1]==\"0\":\n",
    "                nw = twenties[int(n_str[0])]\n",
    "            else:\n",
    "                nw = twenties[int(n_str[0])] + \"-\" + ones[int(n_str[1])]\n",
    "    else:\n",
    "        nw = ones[int(n_str[0])]\n",
    "    return nw\n",
    "\n",
    "\n",
    "solution = 0\n",
    "for n in range(1,1001):\n",
    "    solution += len(int2word(n).replace(\" \", \"\").replace(\"-\", \"\"))\n",
    "    \n",
    "print(\"Solution: \" + str(solution))"
   ]
  }
 ],
 "metadata": {
  "anaconda-cloud": {},
  "kernelspec": {
   "display_name": "Python [default]",
   "language": "python",
   "name": "python3"
  },
  "language_info": {
   "codemirror_mode": {
    "name": "ipython",
    "version": 3
   },
   "file_extension": ".py",
   "mimetype": "text/x-python",
   "name": "python",
   "nbconvert_exporter": "python",
   "pygments_lexer": "ipython3",
   "version": "3.5.2"
  }
 },
 "nbformat": 4,
 "nbformat_minor": 1
}
