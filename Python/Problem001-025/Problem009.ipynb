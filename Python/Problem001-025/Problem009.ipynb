{
 "cells": [
  {
   "cell_type": "markdown",
   "metadata": {},
   "source": [
    "# Problem 9\n",
    "\n",
    "A Pythagorean triplet is a set of three natural numbers, $a < b < c$, for which,\n",
    "$a^2 + b^2 = c^2$\n",
    "\n",
    "For example, $3^2 + 4^2 = 9 + 16 = 25 = 5^2$.\n",
    "\n",
    "There exists exactly one Pythagorean triplet for which $a + b + c = 1000$.\n",
    "Find the product $abc$."
   ]
  },
  {
   "cell_type": "code",
   "execution_count": 24,
   "metadata": {
    "collapsed": false
   },
   "outputs": [
    {
     "name": "stdout",
     "output_type": "stream",
     "text": [
      "Solution: 31875000\n"
     ]
    }
   ],
   "source": [
    "import numpy as np\n",
    "\n",
    "number_set = np.arange(1,1001)\n",
    "\n",
    "pyt_tri = []\n",
    "for i in number_set:\n",
    "    for j in number_set[i+1:]:\n",
    "        if any(np.sqrt(i**2+j**2)==number_set):\n",
    "            pyt_tri += [[i,j,int(np.sqrt(i**2+j**2))]]\n",
    "\n",
    "for i,data in enumerate(pyt_tri):\n",
    "    if (pyt_tri[i][0]+pyt_tri[i][1]+pyt_tri[i][2])==1000:\n",
    "        solution = pyt_tri[i][0]*pyt_tri[i][1]*pyt_tri[i][2]\n",
    "print(\"Solution: \" + str(solution))"
   ]
  }
 ],
 "metadata": {
  "anaconda-cloud": {},
  "kernelspec": {
   "display_name": "Python [default]",
   "language": "python",
   "name": "python3"
  },
  "language_info": {
   "codemirror_mode": {
    "name": "ipython",
    "version": 3
   },
   "file_extension": ".py",
   "mimetype": "text/x-python",
   "name": "python",
   "nbconvert_exporter": "python",
   "pygments_lexer": "ipython3",
   "version": "3.5.2"
  }
 },
 "nbformat": 4,
 "nbformat_minor": 1
}
