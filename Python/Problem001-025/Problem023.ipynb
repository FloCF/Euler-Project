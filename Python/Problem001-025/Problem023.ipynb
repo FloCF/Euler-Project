{
 "cells": [
  {
   "cell_type": "markdown",
   "metadata": {},
   "source": [
    "# Problem 23\n",
    "\n",
    "A perfect number is a number for which the sum of its proper divisors is exactly equal to the number. For example, the sum of the proper divisors of $28$ would be $1 + 2 + 4 + 7 + 14 = 28$, which means that $28$ is a perfect number.\n",
    "\n",
    "A number $n$ is called deficient if the sum of its proper divisors is less than $n$ and it is called abundant if this sum exceeds $n$.\n",
    "\n",
    "As $12$ is the smallest abundant number, $1 + 2 + 3 + 4 + 6 = 16$, the smallest number that can be written as the sum of two abundant numbers is $24$. By mathematical analysis, it can be shown that all integers greater than $28123$ can be written as the sum of two abundant numbers. However, this upper limit cannot be reduced any further by analysis even though it is known that the greatest number that cannot be expressed as the sum of two abundant numbers is less than this limit.\n",
    "\n",
    "Find the sum of all the positive integers which cannot be written as the sum of two abundant numbers.\n"
   ]
  },
  {
   "cell_type": "code",
   "execution_count": 57,
   "metadata": {
    "collapsed": false
   },
   "outputs": [
    {
     "name": "stdout",
     "output_type": "stream",
     "text": [
      "Solution: 4179871\n"
     ]
    }
   ],
   "source": [
    "import numpy as np\n",
    "\n",
    "abundant = []\n",
    "for i in np.arange(1,28112):\n",
    "    if sum(np.arange(1,i)[i%(np.arange(1,i))==0])>i:\n",
    "        abundant += [i]\n",
    "sums = []\n",
    "for i in range(len(abundant)):\n",
    "    sums += [sum(x) for x in zip(abundant, abundant[i:]+abundant[0:i])]\n",
    "set_of_sums = set(np.array(list(set(sums)))[np.array(list(set(sums)))<28123])\n",
    "set_of_integers = set(range(1,28123))\n",
    "no_sum = list(set_of_integers.difference(set_of_sums))\n",
    "print(\"Solution: \" + str(sum(no_sum)))"
   ]
  }
 ],
 "metadata": {
  "anaconda-cloud": {},
  "kernelspec": {
   "display_name": "Python [default]",
   "language": "python",
   "name": "python3"
  },
  "language_info": {
   "codemirror_mode": {
    "name": "ipython",
    "version": 3
   },
   "file_extension": ".py",
   "mimetype": "text/x-python",
   "name": "python",
   "nbconvert_exporter": "python",
   "pygments_lexer": "ipython3",
   "version": "3.5.2"
  }
 },
 "nbformat": 4,
 "nbformat_minor": 1
}
