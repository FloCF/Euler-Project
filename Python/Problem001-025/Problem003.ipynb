{
 "cells": [
  {
   "cell_type": "markdown",
   "metadata": {},
   "source": [
    "# Problem 3\n",
    "\n",
    "The prime factors of $13195$ are $5, 7, 13$ and $29$.\n",
    "\n",
    "What is the largest prime factor of the number $600851475143$ ?\n"
   ]
  },
  {
   "cell_type": "code",
   "execution_count": 11,
   "metadata": {
    "collapsed": false
   },
   "outputs": [
    {
     "name": "stdout",
     "output_type": "stream",
     "text": [
      "Solution: 6857\n"
     ]
    }
   ],
   "source": [
    "fact = 600851475143\n",
    "\n",
    "primes = []\n",
    "while fact!=1:\n",
    "    i = 2\n",
    "    while i<=target:\n",
    "        if fact%i==0:\n",
    "            fact = fact/i\n",
    "            primes += [i]\n",
    "            break\n",
    "        i += 1\n",
    "print(\"Solution: \" + str(max(primes)))"
   ]
  }
 ],
 "metadata": {
  "anaconda-cloud": {},
  "kernelspec": {
   "display_name": "Python [default]",
   "language": "python",
   "name": "python3"
  },
  "language_info": {
   "codemirror_mode": {
    "name": "ipython",
    "version": 3
   },
   "file_extension": ".py",
   "mimetype": "text/x-python",
   "name": "python",
   "nbconvert_exporter": "python",
   "pygments_lexer": "ipython3",
   "version": "3.5.2"
  }
 },
 "nbformat": 4,
 "nbformat_minor": 1
}
