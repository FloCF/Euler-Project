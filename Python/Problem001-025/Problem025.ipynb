{
 "cells": [
  {
   "cell_type": "markdown",
   "metadata": {},
   "source": [
    "# Problem 25\n",
    "\n",
    "The Fibonacci sequence is defined by the recurrence relation:\n",
    "$$\n",
    "F_n = F_{n−1} + F_{n−2}, \\text{ where } F_1 = 1 \\text{ and } F_2 = 1.\n",
    "$$\n",
    "\n",
    "Hence the first $12$ terms will be:\n",
    "$$\n",
    "F_1 = 1\\\\\n",
    "F_2 = 1\\\\\n",
    "F_3 = 2\\\\\n",
    "F_4 = 3\\\\\n",
    "F_5 = 5\\\\\n",
    "F_6 = 8\\\\\n",
    "F_7 = 13\\\\\n",
    "F_8 = 21\\\\\n",
    "F_9 = 34\\\\\n",
    "F_{10} = 55\\\\\n",
    "F_{11} = 89\\\\\n",
    "F_{12} = 144\\\\\n",
    "$$\n",
    "\n",
    "The 12th term, $F_{12}$, is the first term to contain three digits.\n",
    "\n",
    "What is the index of the first term in the Fibonacci sequence to contain $1000$ digits?\n"
   ]
  },
  {
   "cell_type": "code",
   "execution_count": 7,
   "metadata": {
    "collapsed": false
   },
   "outputs": [
    {
     "name": "stdout",
     "output_type": "stream",
     "text": [
      "Solution: 4782\n"
     ]
    }
   ],
   "source": [
    "import numpy as np\n",
    "\n",
    "fib = [1,1]\n",
    "length = 1\n",
    "i = 1\n",
    "while length<1000:\n",
    "    fib += [fib[i]+fib[i-1]]\n",
    "    i += 1\n",
    "    length = len(str(fib[-1]))\n",
    "\n",
    "print(\"Solution: \" + str(i+1))"
   ]
  }
 ],
 "metadata": {
  "anaconda-cloud": {},
  "kernelspec": {
   "display_name": "Python [default]",
   "language": "python",
   "name": "python3"
  },
  "language_info": {
   "codemirror_mode": {
    "name": "ipython",
    "version": 3
   },
   "file_extension": ".py",
   "mimetype": "text/x-python",
   "name": "python",
   "nbconvert_exporter": "python",
   "pygments_lexer": "ipython3",
   "version": "3.5.2"
  }
 },
 "nbformat": 4,
 "nbformat_minor": 1
}
